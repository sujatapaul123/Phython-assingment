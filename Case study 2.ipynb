{
 "cells": [
  {
   "cell_type": "code",
   "execution_count": null,
   "id": "1cd339bc",
   "metadata": {},
   "outputs": [],
   "source": [
    "# 1.Write a Python function to sum all the numbers in a list. (Create a list and get list elements from user)"
   ]
  },
  {
   "cell_type": "code",
   "execution_count": 1,
   "id": "6eb165f4",
   "metadata": {},
   "outputs": [
    {
     "name": "stdout",
     "output_type": "stream",
     "text": [
      "enter the list: 5,5\n",
      "the sum of the list =  10\n"
     ]
    }
   ],
   "source": [
    "def summ_list():\n",
    "    l=input('enter the list: ')\n",
    "    l=l.split(',')\n",
    "    l=[int(n) for n in l]\n",
    "    return sum(l)\n",
    "\n",
    "a=summ_list()\n",
    "print('the sum of the list = ',a)\n",
    "        "
   ]
  },
  {
   "cell_type": "code",
   "execution_count": null,
   "id": "ae5f6c65",
   "metadata": {},
   "outputs": [],
   "source": [
    "#2. Write a Python function that checks whether a passed string is palindrome or not."
   ]
  },
  {
   "cell_type": "code",
   "execution_count": 26,
   "id": "e675c389",
   "metadata": {},
   "outputs": [
    {
     "name": "stdout",
     "output_type": "stream",
     "text": [
      "No\n"
     ]
    }
   ],
   "source": [
    " \n",
    "def isPalindrome(s):\n",
    "    return s == s[::-1]\n",
    "s = \"sujata\" \n",
    "ans = isPalindrome(s)\n",
    " \n",
    "if ans:\n",
    "    print(\"Yes\")\n",
    "else:\n",
    "    print(\"No\")"
   ]
  },
  {
   "cell_type": "code",
   "execution_count": 1,
   "id": "399f7b51",
   "metadata": {},
   "outputs": [
    {
     "ename": "SyntaxError",
     "evalue": "invalid non-printable character U+202F (2987725191.py, line 2)",
     "output_type": "error",
     "traceback": [
      "\u001b[1;36m  File \u001b[1;32m\"C:\\Users\\speci\\AppData\\Local\\Temp\\ipykernel_11944\\2987725191.py\"\u001b[1;36m, line \u001b[1;32m2\u001b[0m\n\u001b[1;33m    j=''.join(reversed(a))\u001b[0m\n\u001b[1;37m    ^\u001b[0m\n\u001b[1;31mSyntaxError\u001b[0m\u001b[1;31m:\u001b[0m invalid non-printable character U+202F\n"
     ]
    }
   ],
   "source": [
    "def is_palian(a,j):\n",
    "    j=''.join(reversed(a))\n",
    "    if(a==j):\n",
    "        return True\n",
    "    else:\n",
    "        return False\n",
    "a=(input('enter the string '))\n",
    "results=is_palian(a) \n",
    "if(results==True):\n",
    "    print(\"The string is a palindrome.\" ) \n",
    "else: \n",
    "    print(\"The string is not a palindrome.\" )\n",
    " "
   ]
  },
  {
   "cell_type": "code",
   "execution_count": 4,
   "id": "c2500fe0",
   "metadata": {},
   "outputs": [],
   "source": [
    "#3. Write a Python recursive function to find the Fibonacci series. Get the limit from the user"
   ]
  },
  {
   "cell_type": "code",
   "execution_count": 45,
   "id": "8129f644",
   "metadata": {},
   "outputs": [
    {
     "name": "stdout",
     "output_type": "stream",
     "text": [
      "How many terms? 8\n",
      "Fibonacci sequence:\n",
      "0\n",
      "1\n",
      "1\n",
      "2\n",
      "3\n",
      "5\n",
      "8\n",
      "13\n"
     ]
    }
   ],
   "source": [
    "def recur_fibo(n):\n",
    "    if n <= 1:  \n",
    "        return n  \n",
    "    else:  \n",
    "        return(recur_fibo(n-1) + recur_fibo(n-2))  \n",
    "# take input from the user  \n",
    "nterms = int(input(\"How many terms? \"))  \n",
    "# check if the number of terms is valid  \n",
    "if nterms <= 0:  \n",
    "    print(\"Plese enter a positive integer\")  \n",
    "else:  \n",
    "    print(\"Fibonacci sequence:\")  \n",
    "    for i in range(nterms):  \n",
    "        print(recur_fibo(i))  "
   ]
  },
  {
   "cell_type": "code",
   "execution_count": null,
   "id": "69376859",
   "metadata": {},
   "outputs": [],
   "source": [
    "# 4. Write a Python recursive function to print the multiplication table of given number"
   ]
  },
  {
   "cell_type": "code",
   "execution_count": 64,
   "id": "6013180c",
   "metadata": {},
   "outputs": [
    {
     "name": "stdout",
     "output_type": "stream",
     "text": [
      "Enter any Number  :10\n",
      "10  *  1  =  10\n",
      "10  *  2  =  20\n",
      "10  *  3  =  30\n",
      "10  *  4  =  40\n",
      "10  *  5  =  50\n",
      "10  *  6  =  60\n",
      "10  *  7  =  70\n",
      "10  *  8  =  80\n",
      "10  *  9  =  90\n",
      "10  *  10  =  100\n"
     ]
    },
    {
     "data": {
      "text/plain": [
       "1"
      ]
     },
     "execution_count": 64,
     "metadata": {},
     "output_type": "execute_result"
    }
   ],
   "source": [
    "def multiplication(num,count):\n",
    "  if( count < 11):\n",
    "     print(num,\" * \",count,\" = \",num * count)\n",
    "     return rec_multiplication(num,count + 1)\n",
    "  else:\n",
    "    return 1\n",
    "n = int(input(\"Enter any Number  :\"));\n",
    "multiplication(n,1)"
   ]
  },
  {
   "cell_type": "code",
   "execution_count": 65,
   "id": "585a2420",
   "metadata": {},
   "outputs": [],
   "source": [
    "#5.Define a function which counts vowels and consonant in a word"
   ]
  },
  {
   "cell_type": "code",
   "execution_count": 9,
   "id": "a83a1d14",
   "metadata": {},
   "outputs": [
    {
     "name": "stdout",
     "output_type": "stream",
     "text": [
      "enter the strings: sujata\n",
      "No of vowels =  3\n",
      "No of consonants =  3\n"
     ]
    }
   ],
   "source": [
    "def count(str):\n",
    "    vowel_count=0\n",
    "    cons_count=0\n",
    "    str=str.lower()\n",
    "    for i in range (0,len(str)):\n",
    "        if str[i] in('a','i','e','o','u'):\n",
    "            vowel_count+=1\n",
    "        else:\n",
    "            cons_count+=1\n",
    "    print('No of vowels = ',vowel_count)\n",
    "    print('No of consonants = ',cons_count)\n",
    "    \n",
    "word=input('enter the strings: ')\n",
    "count(word)"
   ]
  },
  {
   "cell_type": "code",
   "execution_count": 87,
   "id": "723c5e8e",
   "metadata": {},
   "outputs": [
    {
     "ename": "SyntaxError",
     "evalue": "invalid syntax (2194730668.py, line 2)",
     "output_type": "error",
     "traceback": [
      "\u001b[1;36m  File \u001b[1;32m\"C:\\Users\\speci\\AppData\\Local\\Temp\\ipykernel_12232\\2194730668.py\"\u001b[1;36m, line \u001b[1;32m2\u001b[0m\n\u001b[1;33m    rectangle and a Area() method to calculate the area of the rectangle.\u001b[0m\n\u001b[1;37m                    ^\u001b[0m\n\u001b[1;31mSyntaxError\u001b[0m\u001b[1;31m:\u001b[0m invalid syntax\n"
     ]
    }
   ],
   "source": [
    "# 8. Write a Rectangle class in Python language, allowing you to build a rectangle with length and width attributes. \n",
    "a. Create a Perimeter() method to calculate the perimeter of the\n",
    "rectangle and a Area() method to calculate the area of the rectangle.\n",
    "b. Create a method display() that display the length, width, perimeter\n",
    "and area of an object created using an instantiation on rectangle\n",
    "class.\n",
    "c. Create a Parallelepiped child class inheriting from the Rectangle\n",
    "class and with a height attribute and another Volume() method to\n",
    "calculate the volume of the Parallelepiped."
   ]
  },
  {
   "cell_type": "code",
   "execution_count": 20,
   "id": "ba38e33f",
   "metadata": {},
   "outputs": [
    {
     "data": {
      "text/plain": [
       "30"
      ]
     },
     "execution_count": 20,
     "metadata": {},
     "output_type": "execute_result"
    }
   ],
   "source": [
    "class rectangle:\n",
    "    def __init__(self,l,b):\n",
    "        self.l=l\n",
    "        self.b=b\n",
    "        \n",
    "    def area(self):\n",
    "        return(self.l*self.b)\n",
    "        \n",
    "    def perimeter(self):\n",
    "        return (2*(self.l+self.b))\n",
    "    def display(self):\n",
    "        print('length= ',self.l)\n",
    "        print('width= ',self.b)\n",
    "        print('perimeter= ',self.perimeter)\n",
    "        print('area=', self.area)\n",
    "    \n",
    "class rec1(rectangle):\n",
    "    def __init__(self,height):\n",
    "        self.h=height\n",
    "            \n",
    "    def volume(self):\n",
    "        return self.l*self.b*self.h\n",
    "    \n",
    "r1=rectangle(5,10)\n",
    "r1.area()\n",
    "r1.perimeter()\n",
    "\n",
    "\n",
    "\n",
    "\n"
   ]
  },
  {
   "cell_type": "code",
   "execution_count": 17,
   "id": "e58eab5d",
   "metadata": {},
   "outputs": [],
   "source": [
    "# 6. Define a function that accepts lowercase words and returns uppercase words."
   ]
  },
  {
   "cell_type": "code",
   "execution_count": 4,
   "id": "0a9c39bd",
   "metadata": {},
   "outputs": [
    {
     "name": "stdout",
     "output_type": "stream",
     "text": [
      "enter the string: sujata\n",
      "SUJATA\n"
     ]
    }
   ],
   "source": [
    "def upper(str):\n",
    "    if str.islower():\n",
    "        print(str.upper())\n",
    "    else:\n",
    "        print('Lower case letters are accepted')\n",
    "l=input('enter the string: ')\n",
    "upper(l)"
   ]
  },
  {
   "cell_type": "code",
   "execution_count": 5,
   "id": "e5405423",
   "metadata": {},
   "outputs": [
    {
     "ename": "SyntaxError",
     "evalue": "invalid syntax (4112222158.py, line 2)",
     "output_type": "error",
     "traceback": [
      "\u001b[1;36m  File \u001b[1;32m\"C:\\Users\\speci\\AppData\\Local\\Temp\\ipykernel_16512\\4112222158.py\"\u001b[1;36m, line \u001b[1;32m2\u001b[0m\n\u001b[1;33m    the lambda function.\u001b[0m\n\u001b[1;37m        ^\u001b[0m\n\u001b[1;31mSyntaxError\u001b[0m\u001b[1;31m:\u001b[0m invalid syntax\n"
     ]
    }
   ],
   "source": [
    "#7. Write a Python program to remove ‘None’ values from a given list using\n",
    "the lambda function.\n",
    "Given input = [12, 0, None, 23, None, -55, 234, 89, None, 0, 6, -12]\n",
    "Expected output = [12, 0, 23, -55, 234, 89, 0, 6, -12]"
   ]
  },
  {
   "cell_type": "code",
   "execution_count": 3,
   "id": "e050b5dd",
   "metadata": {},
   "outputs": [
    {
     "name": "stdout",
     "output_type": "stream",
     "text": [
      "[12, None, 23, None, -55, 234, 89, None, 0, 6, -12]\n",
      "[12, 23, -55, 234, 89, 0, 6, -12]\n"
     ]
    }
   ],
   "source": [
    "def remove_none(a1):\n",
    "    final_list= list(filter(lambda x: x is not None,a1))\n",
    "    return(final_list)\n",
    "\n",
    "i=[12,None,23,None,-55,234,89,None,0,6,-12]\n",
    "print(i)\n",
    "print(remove_none(i))"
   ]
  },
  {
   "cell_type": "code",
   "execution_count": null,
   "id": "39d1804e",
   "metadata": {},
   "outputs": [],
   "source": [
    "#9. Create a Python class called BankAccount which represents a bank\n",
    "account, having as attributes: accountNumber (numeric type), name\n",
    "(name of the account owner as string type), balance.\n",
    "a. Create a constructor with parameters: accountNumber, name,\n",
    "balance.b. Create a Deposit() method which manages the deposit actions.\n",
    "c. Create a Withdrawal() method which manages withdrawals\n",
    "actions.\n",
    "d. Create an bankFees() method to apply the bank fees with a\n",
    "percentage of 5% of the balance account.\n",
    "e. Create a display() method to display account details.\n",
    "f. Give the complete code for the BankAccount class."
   ]
  },
  {
   "cell_type": "code",
   "execution_count": null,
   "id": "2f763be8",
   "metadata": {},
   "outputs": [],
   "source": [
    "class bankaccount:\n",
    "    \n",
    "    def __init__(self,accno,name,balance):\n",
    "        self.a=accno\n",
    "        self.n=name\n",
    "        self.b=balance\n",
    "        \n",
    "    def deposit(self,deposit):\n",
    "        self.b=self.b+deposit\n",
    "        \n",
    "    def Withdrawal(self,withdrwall):\n",
    "        if(self.b < withdrwall):\n",
    "            print('insufficient balance in account')\n",
    "            \n",
    "        else:\n",
    "            self.b=self.b-withdrwall\n",
    "            \n",
    "    def BankFees(self):\n",
    "        self.b=(95/100)*self.b\n",
    "        \n",
    "    def Display(self):\n",
    "        print('Account No= ' , self.a)\n",
    "        print('Account name = ',self.n)\n",
    "        print('Account balance= ', self.b , 'Rs')\n",
    "        \n",
    "newacct=bankaccount(456987123, 'sujata',200000)\n",
    "newacct.Withdrawal(1000)\n",
    "newacct.deposit(500)\n",
    "newacct.Display()"
   ]
  },
  {
   "cell_type": "code",
   "execution_count": null,
   "id": "62c90827",
   "metadata": {},
   "outputs": [],
   "source": []
  },
  {
   "cell_type": "code",
   "execution_count": null,
   "id": "0fc843ee",
   "metadata": {},
   "outputs": [],
   "source": []
  }
 ],
 "metadata": {
  "kernelspec": {
   "display_name": "Python 3 (ipykernel)",
   "language": "python",
   "name": "python3"
  },
  "language_info": {
   "codemirror_mode": {
    "name": "ipython",
    "version": 3
   },
   "file_extension": ".py",
   "mimetype": "text/x-python",
   "name": "python",
   "nbconvert_exporter": "python",
   "pygments_lexer": "ipython3",
   "version": "3.9.13"
  }
 },
 "nbformat": 4,
 "nbformat_minor": 5
}
