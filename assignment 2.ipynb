{
 "cells": [
  {
   "cell_type": "code",
   "execution_count": null,
   "id": "c454ae4f",
   "metadata": {},
   "outputs": [],
   "source": [
    "#1. A school has following rules for grading system:\n",
    "a. Below 25 - F\n",
    "b. 25 to 45 - E\n",
    "c. 45 to 50 - D\n",
    "d. 50 to 60 - C\n",
    "e. 60 to 80 - B\n",
    "f. Above 80 - A\n",
    "Ask user to enter marks and print the corresponding grade."
   ]
  },
  {
   "cell_type": "code",
   "execution_count": 2,
   "id": "81655428",
   "metadata": {},
   "outputs": [
    {
     "name": "stdout",
     "output_type": "stream",
     "text": [
      "Enter the marks90\n",
      "Grade: A\n"
     ]
    }
   ],
   "source": [
    "m=int(input('Enter the marks'))\n",
    "if(m<=25):\n",
    "    print('Grade: F')\n",
    "elif (m>25 and m<=45):\n",
    "    print('Grade: E')\n",
    "elif (m>45 and m<=50):\n",
    "    print('Grade: D')\n",
    "elif (m>50 and m<=60):\n",
    "    print('Grade: C')\n",
    "elif (m>60 and m<=80):\n",
    "    print('Grade: B')\n",
    "else:\n",
    "    print('Grade: A')"
   ]
  },
  {
   "cell_type": "code",
   "execution_count": null,
   "id": "a4374c1a",
   "metadata": {},
   "outputs": [],
   "source": [
    "#3. Take values of length and breadth of a rectangle from user and check if it is square or not."
   ]
  },
  {
   "cell_type": "code",
   "execution_count": 19,
   "id": "94ef2961",
   "metadata": {},
   "outputs": [
    {
     "name": "stdout",
     "output_type": "stream",
     "text": [
      "enter the lenght of a rectangle8\n",
      "enter the breadth of a rectangle8\n",
      "It is a square\n"
     ]
    }
   ],
   "source": [
    "l=int(input('enter the lenght of a rectangle'))\n",
    "b=int(input('enter the breadth of a rectangle'))\n",
    "if (l==b):\n",
    "    print('It is a square')\n",
    "else:\n",
    "    print('It is not a square')"
   ]
  },
  {
   "cell_type": "code",
   "execution_count": null,
   "id": "5b149b95",
   "metadata": {},
   "outputs": [],
   "source": [
    "#4. A student will not be allowed to sit in exam if his/her attendance is less\n",
    "than 75%. Take following input from user Number of classes held\n",
    "Number of classes attended. And print percentage of class attended Is\n",
    "student is allowed to sit in exam or not.\n"
   ]
  },
  {
   "cell_type": "code",
   "execution_count": 23,
   "id": "ed4b868a",
   "metadata": {},
   "outputs": [
    {
     "name": "stdout",
     "output_type": "stream",
     "text": [
      "No of classes held: 10\n",
      "No of classes attended: 5\n",
      "student is not allowed for exam\n"
     ]
    }
   ],
   "source": [
    "C1 = int(input('No of classes held: '))\n",
    "C2 = int(input('No of classes attended: '))\n",
    "C3= C2/C1*100\n",
    "if(C3>=75):\n",
    "    print('student is allowed for exam')\n",
    "else:\n",
    "    print('student is not allowed for exam')\n"
   ]
  },
  {
   "cell_type": "code",
   "execution_count": null,
   "id": "74969c9f",
   "metadata": {},
   "outputs": [],
   "source": [
    "#5. Create a list by taking length of the list and elements of the list from user. Then find the sum of the elements of the list. Also create a new called even\n",
    "list which contains only even numbers from first list and odd list which\n",
    "contains odd numbers from the list.\n",
    "Sample input:\n",
    "Length of the list = 5\n",
    "List1 = [2,6,3,1,5]\n",
    "Sum = 17\n",
    "Even_list=[2,6]\n",
    "Odd_list=[3,1,5]"
   ]
  },
  {
   "cell_type": "code",
   "execution_count": 46,
   "id": "b0f236ae",
   "metadata": {},
   "outputs": [
    {
     "name": "stdout",
     "output_type": "stream",
     "text": [
      "Enter the length: 4\n",
      "enter the elements: 1\n",
      "enter the elements: 2\n",
      "enter the elements: 3\n",
      "enter the elements: 4\n",
      "List is:  [1, 2, 3, 4]\n",
      "Even list:  [2, 4]\n",
      "Odd list:  [1, 3]\n",
      "sum is  16\n"
     ]
    }
   ],
   "source": [
    "list=[]\n",
    "evenlist=[]\n",
    "oddlist=[]\n",
    "s=0\n",
    "\n",
    "n=int(input('Enter the length: '))\n",
    "for i in range(0,n):\n",
    "    ele=int(input('enter the elements: '))\n",
    "\n",
    "    list.append(ele)    \n",
    "print('List is: ',list)\n",
    "\n",
    "for i in list:\n",
    "    s=s+ele\n",
    "    if (i%2==0):\n",
    "        evenlist.append(i)\n",
    "    else:\n",
    "        oddlist.append(i)\n",
    "print('Even list: ',evenlist)\n",
    "print('Odd list: ',oddlist)\n",
    "print('sum is ',s)\n",
    "\n",
    "\n",
    "    "
   ]
  },
  {
   "cell_type": "code",
   "execution_count": null,
   "id": "ced0ee54",
   "metadata": {},
   "outputs": [],
   "source": [
    "#2. You have a list of names. Create a new list which contains only the names with non-repeating characters."
   ]
  },
  {
   "cell_type": "code",
   "execution_count": 17,
   "id": "c25efd9f",
   "metadata": {},
   "outputs": [
    {
     "name": "stdout",
     "output_type": "stream",
     "text": [
      "the non repeating character is john\n"
     ]
    }
   ],
   "source": [
    "l1=['john', 'peter', 'meera', 'mini', 'krishna']\n",
    "index=-1\n",
    "j=\"\"\n",
    "for i in l1:\n",
    "    if l1.count(i)==1:\n",
    "        j+= i\n",
    "        break\n",
    "    else:\n",
    "        index+=1\n",
    "if index==1:\n",
    "    print(' string is empty')\n",
    "else:\n",
    "    print(\"the non repeating character is\" , j)\n"
   ]
  },
  {
   "cell_type": "code",
   "execution_count": 11,
   "id": "10b1668d",
   "metadata": {},
   "outputs": [],
   "source": [
    "# 10.Write a Python program to print Fibonacci series in a given range. Get the range from user and print prime numbers in that range."
   ]
  },
  {
   "cell_type": "code",
   "execution_count": 28,
   "id": "453369c9",
   "metadata": {},
   "outputs": [
    {
     "name": "stdout",
     "output_type": "stream",
     "text": [
      "enter the limit: 10\n",
      "1 1 2 3 5 8 13 21 34 55 \n"
     ]
    }
   ],
   "source": [
    "num=int(input('enter the limit: '))\n",
    "n1=1\n",
    "n2=0\n",
    "for i in range(0, num):\n",
    "        n3=n1+n2\n",
    "        n1=n2\n",
    "        n2=n3\n",
    "        print(n3,end=\" \")\n",
    "        \n",
    "print()        "
   ]
  },
  {
   "cell_type": "code",
   "execution_count": null,
   "id": "b2cc88e2",
   "metadata": {},
   "outputs": [],
   "source": [
    "#8. Given a range of first 10 numbers, write a Python program to iterate from start number to the end number and print the sum of the current numberand previous number."
   ]
  },
  {
   "cell_type": "code",
   "execution_count": 7,
   "id": "f4735710",
   "metadata": {},
   "outputs": [
    {
     "name": "stdout",
     "output_type": "stream",
     "text": [
      "19\n"
     ]
    }
   ],
   "source": [
    "s=0\n",
    "for i in range(0,10):\n",
    "    \n",
    "    for j in range(1,11):\n",
    "        s=i+j\n",
    "print(s)\n"
   ]
  },
  {
   "cell_type": "code",
   "execution_count": null,
   "id": "6fd8dd3d",
   "metadata": {},
   "outputs": [],
   "source": [
    "#6. Create a sample chatbot for an ecommerce website."
   ]
  },
  {
   "cell_type": "code",
   "execution_count": null,
   "id": "4b8a6bfa",
   "metadata": {},
   "outputs": [
    {
     "name": "stdout",
     "output_type": "stream",
     "text": [
      "Swagat hai hamare Thrift store\n",
      "Enter Thank you to stop: tops\n",
      "Crop , short , long , high neck , full sleeve , cold shoulder , off shoulder\n",
      "Enter Thank you to stop: Thank you\n",
      "Enjoy shopping with us\n"
     ]
    }
   ],
   "source": [
    "print('Swagat hai hamare Thrift store')\n",
    "\n",
    "while True:\n",
    "    x = input('Enter Thank you to stop: ')\n",
    "    x=x.lower()\n",
    "    if x =='bye':\n",
    "        print('Thank you! have a nice day!')\n",
    "        break\n",
    "    y=x.split()\n",
    "    if len(y)==0:\n",
    "        print('Please give a valid input')\n",
    "    elif 'morning' in y:\n",
    "        print('Good morning')\n",
    "    elif 'collections' in y:\n",
    "        print('having many options. What are your preferences!')\n",
    "    elif 'clothes' in y:\n",
    "        print('Jeans , Tops, Skirts , One piece , kurtis')\n",
    "    elif 'jeans' in y:\n",
    "        print('Normal, Wide, Narrow, 3 quater, Mom jeans , Boyfriend jeans')\n",
    "    elif 'tops' in y:\n",
    "        print('Crop , short , long , high neck , full sleeve , cold shoulder , off shoulder')\n",
    "    elif 'skirt' in y:\n",
    "        print('short , mini , long')\n",
    "    elif 'one piece' in y:\n",
    "        print('long piece , half, bodycon , gown')\n",
    "    elif 'kurti' in y:\n",
    "        print('long , short, normal print , party wear')\n",
    "    elif 'fashion accesories'in y:\n",
    "        print('necklace , ear ring, rings ,nose pin ,bangles')\n",
    "    elif 'makeup' in y:\n",
    "        print('eye shadow , primer ,foundation , concealor ,Kajal , lipstick')\n",
    "    elif 'sandals' in y:\n",
    "        print('flat ,pointed heels , flip flop , peep-toe , loafer, wedge heels')\n",
    "    elif 'accessories' in y:\n",
    "        print('Head phone , ear phone , earbuds , neck band , smart watch')\n",
    "    else:\n",
    "        print('Enjoy shopping with us')  "
   ]
  },
  {
   "cell_type": "code",
   "execution_count": null,
   "id": "c36b2f62",
   "metadata": {},
   "outputs": [],
   "source": [
    "#9. Write a Python program to find the prime numbers in a given range. Get the range from user and print prime numbers in that range."
   ]
  },
  {
   "cell_type": "code",
   "execution_count": 8,
   "id": "dcdeecd6",
   "metadata": {},
   "outputs": [
    {
     "name": "stdout",
     "output_type": "stream",
     "text": [
      "Please, Enter the Lowest Range Value: 25\n",
      "Please, Enter the Upper Range Value: 45\n",
      "The Prime Numbers in the range are: \n",
      "29\n",
      "31\n",
      "37\n",
      "41\n",
      "43\n"
     ]
    }
   ],
   "source": [
    "v1 = int(input (\"Please, Enter the Lowest Range Value: \"))  \n",
    "v2 = int(input (\"Please, Enter the Upper Range Value: \"))  \n",
    "  \n",
    "print (\"The Prime Numbers in the range are: \")  \n",
    "for number in range (v1,v2 + 1):  \n",
    "    if number > 1:  \n",
    "        for i in range (2, number):  \n",
    "            if (number % i) == 0:  \n",
    "                break  \n",
    "        else:  \n",
    "            print (number)  "
   ]
  },
  {
   "cell_type": "code",
   "execution_count": null,
   "id": "64b83e36",
   "metadata": {},
   "outputs": [],
   "source": [
    "#7. Write a program to find the roots of a quadratic equation. Get the coefficients of quadratic equation ax^2+bx+c and display whether the roots are real and equal or real and distinct or roots are imaginary.display it as well."
   ]
  },
  {
   "cell_type": "code",
   "execution_count": 1,
   "id": "7bf519ef",
   "metadata": {},
   "outputs": [
    {
     "name": "stdout",
     "output_type": "stream",
     "text": [
      "Quadratic function : (a * x^2) + b*x + c)\n",
      "a: 3\n",
      "b: 9\n",
      "c: 41\n",
      "Real roots < 0.\n"
     ]
    }
   ],
   "source": [
    "from math import sqrt\n",
    "\n",
    "print(\"Quadratic function : (a * x^2) + b*x + c)\")\n",
    "a = float(input(\"a: \"))\n",
    "b = float(input(\"b: \"))\n",
    "c = float(input(\"c: \"))\n",
    "\n",
    "r = b**2 - 4*a*c\n",
    "\n",
    "if r > 0:\n",
    "    num_roots = 2\n",
    "    x1 = (((-b) + sqrt(r))/(2*a))     \n",
    "    x2 = (((-b) - sqrt(r))/(2*a))\n",
    "    print(\"There are 2 roots: %f and %f\" % (x1, x2))\n",
    "elif r == 0:\n",
    "    num_roots = 1\n",
    "    x = (-b) / 2*a\n",
    "    print(\"There is one root: \", x)\n",
    "else:\n",
    "    num_roots = 0\n",
    "    print(\"Real roots < 0.\")\n",
    "    exit()  "
   ]
  },
  {
   "cell_type": "code",
   "execution_count": null,
   "id": "ebf68c0b",
   "metadata": {},
   "outputs": [],
   "source": []
  },
  {
   "cell_type": "code",
   "execution_count": null,
   "id": "ac617b09",
   "metadata": {},
   "outputs": [],
   "source": []
  }
 ],
 "metadata": {
  "kernelspec": {
   "display_name": "Python 3 (ipykernel)",
   "language": "python",
   "name": "python3"
  },
  "language_info": {
   "codemirror_mode": {
    "name": "ipython",
    "version": 3
   },
   "file_extension": ".py",
   "mimetype": "text/x-python",
   "name": "python",
   "nbconvert_exporter": "python",
   "pygments_lexer": "ipython3",
   "version": "3.9.13"
  }
 },
 "nbformat": 4,
 "nbformat_minor": 5
}
