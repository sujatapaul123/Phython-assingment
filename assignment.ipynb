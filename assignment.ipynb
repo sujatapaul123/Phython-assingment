{
 "cells": [
  {
   "cell_type": "markdown",
   "id": "0fab0b02",
   "metadata": {},
   "source": [
    "## Question 1"
   ]
  },
  {
   "cell_type": "code",
   "execution_count": 1,
   "id": "7672b6a7",
   "metadata": {},
   "outputs": [
    {
     "name": "stdout",
     "output_type": "stream",
     "text": [
      "Name: Anisha\n",
      "Roll no: 21\n",
      "Marks: 78\n"
     ]
    }
   ],
   "source": [
    "print('Name:','Anisha')\n",
    "print('Roll no:','21')\n",
    "print('Marks:','78')"
   ]
  },
  {
   "cell_type": "markdown",
   "id": "f6e93994",
   "metadata": {},
   "source": [
    "# Question 2"
   ]
  },
  {
   "cell_type": "code",
   "execution_count": 17,
   "id": "5fa995d8",
   "metadata": {},
   "outputs": [
    {
     "name": "stdout",
     "output_type": "stream",
     "text": [
      "enter the temperature in celsius32\n",
      "Conversion of temperatur from celsius into fahrenhiet is 89.6\n"
     ]
    }
   ],
   "source": [
    "c=float(input('enter the temperature in celsius'))\n",
    "f=(c*1.8)+32\n",
    "print('Conversion of temperatur from celsius into fahrenhiet is',f)"
   ]
  },
  {
   "cell_type": "code",
   "execution_count": 18,
   "id": "e082b327",
   "metadata": {},
   "outputs": [
    {
     "name": "stdout",
     "output_type": "stream",
     "text": [
      "enter the temperature in fahrenheit32\n",
      "Conversion of temperature from fahrenhiet into Celsius is 0.0\n"
     ]
    }
   ],
   "source": [
    "f=float(input('enter the temperature in fahrenheit'))\n",
    "c=(f-32)/1.8\n",
    "print('Conversion of temperature from fahrenhiet into Celsius is',c)"
   ]
  },
  {
   "cell_type": "markdown",
   "id": "c2afe4ef",
   "metadata": {},
   "source": [
    "# Question 3"
   ]
  },
  {
   "cell_type": "code",
   "execution_count": 3,
   "id": "84588243",
   "metadata": {},
   "outputs": [
    {
     "name": "stdout",
     "output_type": "stream",
     "text": [
      "enter the first no2\n",
      "enter the second no3\n",
      "p2= 6\n"
     ]
    }
   ],
   "source": [
    "p=int(input('enter the first no'))\n",
    "p1=int(input('enter the second no'))\n",
    "print('p2=' ,p*p1)"
   ]
  },
  {
   "cell_type": "markdown",
   "id": "77ad1022",
   "metadata": {},
   "source": [
    "# Question 4"
   ]
  },
  {
   "cell_type": "code",
   "execution_count": 85,
   "id": "35190a17",
   "metadata": {},
   "outputs": [
    {
     "data": {
      "text/plain": [
       "'Learn**Python** by Developing a**Website**'"
      ]
     },
     "execution_count": 85,
     "metadata": {},
     "output_type": "execute_result"
    }
   ],
   "source": [
    "a= str('Learn**Python** by Developing a**Website**')\n",
    "a"
   ]
  },
  {
   "cell_type": "markdown",
   "id": "3afdd94c",
   "metadata": {},
   "source": [
    "# Question 5"
   ]
  },
  {
   "cell_type": "code",
   "execution_count": 4,
   "id": "5bbb192a",
   "metadata": {
    "scrolled": true
   },
   "outputs": [
    {
     "name": "stdout",
     "output_type": "stream",
     "text": [
      "enter the radius5\n",
      "area= 78.5\n"
     ]
    }
   ],
   "source": [
    "r=int(input('enter the radius'))\n",
    "print('area=', 3.14*r*r)"
   ]
  },
  {
   "cell_type": "markdown",
   "id": "53fb7568",
   "metadata": {},
   "source": [
    "# Question 6"
   ]
  },
  {
   "cell_type": "code",
   "execution_count": 80,
   "id": "efca9c11",
   "metadata": {},
   "outputs": [
    {
     "name": "stdout",
     "output_type": "stream",
     "text": [
      "[23, 45, 100, 67, 89, 90]\n"
     ]
    }
   ],
   "source": [
    "list1=[23,45,67,89,90]\n",
    "list1.insert(2,100)\n",
    "print(list1)"
   ]
  },
  {
   "cell_type": "markdown",
   "id": "2c8bbefa",
   "metadata": {},
   "source": [
    "# question 7"
   ]
  },
  {
   "cell_type": "code",
   "execution_count": 78,
   "id": "2a8db794",
   "metadata": {},
   "outputs": [
    {
     "name": "stdout",
     "output_type": "stream",
     "text": [
      "{'name': 'John', 'age': 5, 'salary': 8000, 'location': 'New York'}\n"
     ]
    }
   ],
   "source": [
    "dict = { \"name\": \"John\", \"age\":5, \"salary\": 8000, \"city\": \"New York\"}\n",
    "dict['location']=dict['city']\n",
    "del dict['city']\n",
    "print(dict)"
   ]
  },
  {
   "cell_type": "markdown",
   "id": "3da07261",
   "metadata": {},
   "source": [
    "# question 8"
   ]
  },
  {
   "cell_type": "code",
   "execution_count": 71,
   "id": "84df9e48",
   "metadata": {},
   "outputs": [
    {
     "name": "stdout",
     "output_type": "stream",
     "text": [
      "{'emp1': {'name': 'John', 'salary': 7500}, 'emp2': {'name': 'Emma', 'salary': 8000}, 'emp3': {'name': 'Brad', 'salary': 8500}}\n"
     ]
    }
   ],
   "source": [
    "d1= {\n",
    "'emp1': {'name': 'John', 'salary': 7500},\n",
    "'emp2': {'name': 'Emma', 'salary': 8000},\n",
    "'emp3': {'name': 'Brad', 'salary': 500}\n",
    "}\n",
    "d1['emp3']['salary']=8500\n",
    "print(d1)"
   ]
  },
  {
   "cell_type": "markdown",
   "id": "78d66334",
   "metadata": {},
   "source": [
    "# Question 9"
   ]
  },
  {
   "cell_type": "code",
   "execution_count": 18,
   "id": "a1e41cdf",
   "metadata": {},
   "outputs": [],
   "source": [
    "tuple1 = (10, 20, 43, 54, 56, 68)\n",
    "tuple2= tuple1[2:4]"
   ]
  },
  {
   "cell_type": "code",
   "execution_count": 47,
   "id": "0fb4d61a",
   "metadata": {},
   "outputs": [
    {
     "data": {
      "text/plain": [
       "(43, 54)"
      ]
     },
     "execution_count": 47,
     "metadata": {},
     "output_type": "execute_result"
    }
   ],
   "source": [
    "tuple2"
   ]
  },
  {
   "cell_type": "markdown",
   "id": "d1fbdffd",
   "metadata": {},
   "source": [
    "# # Question 10"
   ]
  },
  {
   "cell_type": "code",
   "execution_count": 20,
   "id": "846d11c7",
   "metadata": {},
   "outputs": [],
   "source": [
    "tuple1 = (50, 10, 60, 70, 50,83,567,50,81)"
   ]
  },
  {
   "cell_type": "code",
   "execution_count": 21,
   "id": "4a5e2b3b",
   "metadata": {},
   "outputs": [
    {
     "data": {
      "text/plain": [
       "3"
      ]
     },
     "execution_count": 21,
     "metadata": {},
     "output_type": "execute_result"
    }
   ],
   "source": [
    "tuple1.count(50)"
   ]
  }
 ],
 "metadata": {
  "kernelspec": {
   "display_name": "Python 3 (ipykernel)",
   "language": "python",
   "name": "python3"
  },
  "language_info": {
   "codemirror_mode": {
    "name": "ipython",
    "version": 3
   },
   "file_extension": ".py",
   "mimetype": "text/x-python",
   "name": "python",
   "nbconvert_exporter": "python",
   "pygments_lexer": "ipython3",
   "version": "3.9.13"
  }
 },
 "nbformat": 4,
 "nbformat_minor": 5
}
